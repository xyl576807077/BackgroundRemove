{
 "cells": [
  {
   "cell_type": "code",
   "execution_count": null,
   "metadata": {
    "collapsed": true
   },
   "outputs": [],
   "source": [
    "from PIL import Image, ImageDraw, ImageFont\n",
    "\n",
    "font = ImageFont.truetype('./data/gb2312.ttf', size=32)\n",
    "\n",
    "img = Image.new('RGBA', (128, 128), 255)\n",
    "draw = ImageDraw.Draw(img)\n",
    "draw.text((0, 0), 'ǎ', fill='#008B8B', font=font)\n",
    "\n",
    "img.save('test.png')"
   ]
  },
  {
   "cell_type": "code",
   "execution_count": null,
   "metadata": {
    "collapsed": true
   },
   "outputs": [],
   "source": [
    "import cv2\n",
    "hehe = cv2.imread('test.png')"
   ]
  },
  {
   "cell_type": "code",
   "execution_count": null,
   "metadata": {
    "collapsed": true
   },
   "outputs": [],
   "source": [
    "hehe.shape"
   ]
  },
  {
   "cell_type": "code",
   "execution_count": 13,
   "metadata": {},
   "outputs": [
    {
     "name": "stdout",
     "output_type": "stream",
     "text": [
      "{'1000': 64793, '0010': 46950, '1001': 5950, '1101': 174, '1111': 23, '1100': 1009, '0011': 10187, '0001': 60612, '1010': 6333, '1011': 3636, '0100': 290, '1110': 43, '0110': 4, '0101': 11, '0111': 3}\n"
     ]
    }
   ],
   "source": [
    "import pickle\n",
    "from char_process import *\n",
    "with open('./data/word.pickle', 'rb') as f:\n",
    "    word = pickle.load(f)\n",
    "    \n",
    "cp = CharProcess()\n",
    "res = {}\n",
    "for line in word:\n",
    "    cnt = [0] * 4\n",
    "    for text in line:\n",
    "        if cp.isSimplifyChinese(text):\n",
    "            cnt[0] = 1\n",
    "        elif cp.isTraditionalChinese(text):\n",
    "            cnt[1] = 1\n",
    "        elif cp.is_pure_char(text):\n",
    "            cnt[2] = 1\n",
    "        else:\n",
    "            cnt[3] = 1\n",
    "    _sum = ''\n",
    "    for i in range(4):\n",
    "        _sum += str(cnt[i])\n",
    "    if _sum == '0000':\n",
    "        continue\n",
    "    res[_sum] = res.get(_sum, 0) + 1\n",
    "print(res)"
   ]
  },
  {
   "cell_type": "code",
   "execution_count": 10,
   "metadata": {},
   "outputs": [
    {
     "data": {
      "text/plain": [
       "True"
      ]
     },
     "execution_count": 10,
     "metadata": {},
     "output_type": "execute_result"
    }
   ],
   "source": [
    "cp.isSimplifyChinese('鼓')"
   ]
  },
  {
   "cell_type": "code",
   "execution_count": 4,
   "metadata": {},
   "outputs": [],
   "source": [
    "import json\n",
    "from char_process import *\n",
    "cp = CharProcess()\n",
    "with open('./data/all_chars_dict.json', 'r') as f:\n",
    "    all_chars = json.load(f)\n",
    "\n",
    "cnt = [0] * 4\n",
    "for text in all_chars.keys():\n",
    "    if cp.isSimplifyChinese(text):\n",
    "        cnt[0] += 1\n",
    "    elif cp.isTraditionalChinese(text):\n",
    "        cnt[1] += 1\n",
    "    elif cp.is_pure_char(text):\n",
    "        cnt[2] += 1\n",
    "    else:\n",
    "        cnt[3] += 1"
   ]
  },
  {
   "cell_type": "code",
   "execution_count": 5,
   "metadata": {},
   "outputs": [
    {
     "data": {
      "text/plain": [
       "[4376, 463, 62, 221]"
      ]
     },
     "execution_count": 5,
     "metadata": {},
     "output_type": "execute_result"
    }
   ],
   "source": [
    "cnt"
   ]
  }
 ],
 "metadata": {
  "kernelspec": {
   "display_name": "Python 3",
   "language": "python",
   "name": "python3"
  },
  "language_info": {
   "codemirror_mode": {
    "name": "ipython",
    "version": 3
   },
   "file_extension": ".py",
   "mimetype": "text/x-python",
   "name": "python",
   "nbconvert_exporter": "python",
   "pygments_lexer": "ipython3",
   "version": "3.6.3"
  }
 },
 "nbformat": 4,
 "nbformat_minor": 2
}
