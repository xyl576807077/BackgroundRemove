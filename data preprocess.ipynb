{
 "cells": [
  {
   "cell_type": "code",
   "execution_count": 1,
   "metadata": {},
   "outputs": [],
   "source": [
    "import json\n",
    "from char_process import *\n",
    "from draw_character import *\n",
    "from torchvision import transforms\n",
    "from matplotlib.pyplot import imshow\n",
    "import numpy as np\n",
    "%load_ext autoreload\n",
    "%autoreload 2\n",
    "%matplotlib inline\n",
    "cp = CharProcess()"
   ]
  },
  {
   "cell_type": "code",
   "execution_count": 36,
   "metadata": {
    "collapsed": true
   },
   "outputs": [],
   "source": [
    "common_chinese = []\n",
    "with open('./data/3500chinese.txt', 'r') as f:\n",
    "    for line in f.readlines():\n",
    "        line = line.strip()\n",
    "        common_chinese.append(line)\n",
    "        \n",
    "\n",
    "with open('./data/chars_dict_all.json', 'r') as f:\n",
    "    chars_dict_all = json.load(f)\n",
    "all_label = list(chars_dict_all.keys())\n",
    "\n",
    "first_chinese = []\n",
    "with open('./data/first_chinese.txt', 'r') as f:\n",
    "    for line in f.readlines():\n",
    "        line = line.strip()\n",
    "        first_chinese.append(line)\n",
    "\n",
    "small_all_label = set(first_chinese).union(chars_dict_all)\n",
    "big_all_label = set(common_chinese).union(small_all_label)\n",
    "\n",
    "no_needed = set()\n",
    "for item in big_all_label:\n",
    "    if cp.is_full_width_char(item) or cp.is_full_width_digit(item):\n",
    "        no_needed.add(item)\n",
    "big_all_label = big_all_label.difference(no_needed)\n",
    "\n",
    "with open('./data/generate_label.txt', 'w') as f:\n",
    "    for item in big_all_label:\n",
    "        f.write(item + '\\n')"
   ]
  },
  {
   "cell_type": "code",
   "execution_count": 59,
   "metadata": {},
   "outputs": [
    {
     "data": {
      "image/png": "[encoded data removed]",
      "text/plain": [
       "<PIL.Image.Image image mode=RGBA size=32x32 at 0x154B651E5748>"
      ]
     },
     "execution_count": 59,
     "metadata": {},
     "output_type": "execute_result"
    }
   ],
   "source": [
    "font = ImageFont.truetype('./font/gb2312.ttf', size=32)\n",
    "img = draw_char('U', font, 25, 32)\n",
    "\n",
    "background = Image.open('./img/background/patch_T1.3BPFFJdXXXXXXXX_!!0-item_pic.jpg.jpg')\n",
    "\n",
    "paste(img, background)\n",
    "\n",
    "rotation_transform = transforms.RandomRotation((-30, 30))\n",
    "random_crop = transforms.RandomCrop(32)"
   ]
  },
  {
   "cell_type": "code",
   "execution_count": 20,
   "metadata": {},
   "outputs": [],
   "source": [
    "with open('./data/chars_dict_all.json', 'r') as f:\n",
    "    chars_dict_all = json.load(f)\n",
    "\n",
    "big_label = set()\n",
    "\n",
    "with open('./data/generate_label.txt', 'r') as f:\n",
    "    for line in f.readlines():\n",
    "        line = line.strip()\n",
    "        big_label.add(line)\n",
    "\n",
    "\n",
    "\n",
    "\n",
    "difference = big_label.difference(set(chars_dict_all.keys()))\n",
    "hehe = set(chars_dict_all.keys()).difference(big_label)\n"
   ]
  },
  {
   "cell_type": "code",
   "execution_count": 22,
   "metadata": {},
   "outputs": [
    {
     "name": "stdout",
     "output_type": "stream",
     "text": [
      "4367\n"
     ]
    }
   ],
   "source": [
    "from collections import OrderedDict\n",
    "order = OrderedDict()\n",
    "pos = -1\n",
    "for key in chars_dict_all.keys():\n",
    "    if key not in hehe:\n",
    "        order[key] = chars_dict_all[key]\n",
    "        pos = order[key]\n",
    "print(len(order))\n",
    "for item in difference:\n",
    "    if item == '':\n",
    "        continue\n",
    "    pos += 1\n",
    "    order[item] = pos\n",
    "\n",
    "with open('./data/big_label.json', 'w') as f:\n",
    "    json.dump(order, f, ensure_ascii=False)"
   ]
  },
  {
   "cell_type": "code",
   "execution_count": 23,
   "metadata": {},
   "outputs": [],
   "source": [
    "lala = list(order.values())"
   ]
  },
  {
   "cell_type": "code",
   "execution_count": 25,
   "metadata": {},
   "outputs": [
    {
     "data": {
      "text/plain": [
       "5121"
      ]
     },
     "execution_count": 25,
     "metadata": {},
     "output_type": "execute_result"
    }
   ],
   "source": [
    "len(lala)"
   ]
  }
 ],
 "metadata": {
  "kernelspec": {
   "display_name": "Python 3",
   "language": "python",
   "name": "python3"
  },
  "language_info": {
   "codemirror_mode": {
    "name": "ipython",
    "version": 3
   },
   "file_extension": ".py",
   "mimetype": "text/x-python",
   "name": "python",
   "nbconvert_exporter": "python",
   "pygments_lexer": "ipython3",
   "version": "3.6.3"
  }
 },
 "nbformat": 4,
 "nbformat_minor": 2
}
