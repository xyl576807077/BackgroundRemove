{
 "cells": [
  {
   "cell_type": "code",
   "execution_count": null,
   "metadata": {},
   "outputs": [],
   "source": [
    "import json\n",
    "from char_process import *\n",
    "from draw_character import *\n",
    "from torchvision import transforms\n",
    "from matplotlib.pyplot import imshow\n",
    "import numpy as np\n",
    "%load_ext autoreload\n",
    "%autoreload 2\n",
    "%matplotlib inline\n",
    "cp = CharProcess()\n",
    "generator = GeneratorImage('./img/background/', './data/generate_label.txt')\n",
    "word_labels = generator.words"
   ]
  },
  {
   "cell_type": "code",
   "execution_count": null,
   "metadata": {},
   "outputs": [],
   "source": [
    "canvas_size = 32\n",
    "font = ImageFont.truetype('./font/gb2312.ttf', size=canvas_size)\n",
    "ch = word_labels[0]\n",
    "# img = generator.draw_char(ch, font, canvas_size)\n",
    "# img = generator.generator_word_img(img)\n",
    "# background = generator.random_get_background()\n",
    "# mix1, mix2 = generator.paste(img, background)\n",
    "# img = generator.rotation_transform.__call__(img)\n",
    "# background = Image.open('./img/background/patch_T1.3BPFFJdXXXXXXXX_!!0-item_pic.jpg.jpg')\n",
    "# paste(img, background)"
   ]
  },
  {
   "cell_type": "code",
   "execution_count": null,
   "metadata": {},
   "outputs": [],
   "source": [
    "for ch in word_labels:\n",
    "    generator.save_generation_image(ch, font, canvas_size, 10, './img/data/', './img/label/')"
   ]
  },
  {
   "cell_type": "code",
   "execution_count": null,
   "metadata": {},
   "outputs": [],
   "source": [
    "ch = '\\u7db2'\n",
    "ch"
   ]
  },
  {
   "cell_type": "code",
   "execution_count": null,
   "metadata": {},
   "outputs": [],
   "source": [
    "hehe = generator.generator_word_img(img)\n",
    "print(hehe.size)"
   ]
  },
  {
   "cell_type": "code",
   "execution_count": null,
   "metadata": {},
   "outputs": [],
   "source": [
    "for word in word_labels:"
   ]
  },
  {
   "cell_type": "code",
   "execution_count": null,
   "metadata": {
    "collapsed": true
   },
   "outputs": [],
   "source": [
    "white = Image.new('RGB', (32, 32), (255, 255, 255))"
   ]
  },
  {
   "cell_type": "code",
   "execution_count": null,
   "metadata": {},
   "outputs": [],
   "source": [
    "whiten_image(img)"
   ]
  }
 ],
 "metadata": {
  "kernelspec": {
   "display_name": "Python 3",
   "language": "python",
   "name": "python3"
  },
  "language_info": {
   "codemirror_mode": {
    "name": "ipython",
    "version": 3
   },
   "file_extension": ".py",
   "mimetype": "text/x-python",
   "name": "python",
   "nbconvert_exporter": "python",
   "pygments_lexer": "ipython3",
   "version": "3.6.3"
  }
 },
 "nbformat": 4,
 "nbformat_minor": 2
}
