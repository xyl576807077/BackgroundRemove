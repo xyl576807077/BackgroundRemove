{
 "cells": [
  {
   "cell_type": "code",
   "execution_count": 11,
   "metadata": {},
   "outputs": [],
   "source": [
    "import os\n",
    "import json\n",
    "with open('./data/big_label.json', 'r') as f:\n",
    "    big_label = json.load(f)\n",
    "files = os.listdir('./img/img_generation/')\n",
    "new_dict = dict(zip(big_label.values(), big_label.keys()))\n",
    "\n",
    "word_cnt = {}\n",
    "uni_img_generation = {}\n",
    "for file in files:\n",
    "    basename = os.path.splitext(os.path.basename(file))[0]\n",
    "    label = int(basename.split('_')[0])\n",
    "    uni_img_generation[file] = [label, 4427]\n",
    "    word = new_dict[label]\n",
    "    word_cnt[word] = word_cnt.get(word, 0) + 1"
   ]
  },
  {
   "cell_type": "code",
   "execution_count": 13,
   "metadata": {},
   "outputs": [],
   "source": [
    "with open('./data/uni_img_generation.json', 'w') as f:\n",
    "    json.dump(uni_img_generation, f)"
   ]
  }
 ],
 "metadata": {
  "kernelspec": {
   "display_name": "Python 3",
   "language": "python",
   "name": "python3"
  },
  "language_info": {
   "codemirror_mode": {
    "name": "ipython",
    "version": 3
   },
   "file_extension": ".py",
   "mimetype": "text/x-python",
   "name": "python",
   "nbconvert_exporter": "python",
   "pygments_lexer": "ipython3",
   "version": "3.6.3"
  }
 },
 "nbformat": 4,
 "nbformat_minor": 2
}
