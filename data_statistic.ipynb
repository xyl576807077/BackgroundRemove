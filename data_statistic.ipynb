{
 "cells": [
  {
   "cell_type": "code",
   "execution_count": null,
   "metadata": {
    "collapsed": true
   },
   "outputs": [],
   "source": [
    "import os\n",
    "import json\n",
    "with open('./data/big_label.json', 'r') as f:\n",
    "    big_label = json.load(f)\n",
    "files = os.listdir('./img/img_generation/')\n",
    "new_dict = dict(zip(big_label.values(), big_label.keys()))\n",
    "\n",
    "word_cnt = {}\n",
    "uni_img_generation = {}\n",
    "for file in files:\n",
    "    basename = os.path.splitext(os.path.basename(file))[0]\n",
    "    label = int(basename.split('_')[0])\n",
    "    uni_img_generation[file] = [label, 4427]\n",
    "    word = new_dict[label]\n",
    "    word_cnt[word] = word_cnt.get(word, 0) + 1\n",
    "\n",
    "with open('./data/uni_img_generation.json', 'w') as f:\n",
    "    json.dump(uni_img_generation, f)"
   ]
  },
  {
   "cell_type": "code",
   "execution_count": 22,
   "metadata": {},
   "outputs": [
    {
     "name": "stdout",
     "output_type": "stream",
     "text": [
      "haha [3999, 5121]\n"
     ]
    }
   ],
   "source": [
    "import json\n",
    "\n",
    "def checkerror(uni_file, predict_file):\n",
    "    with open(uni_file, 'rb') as f:\n",
    "        uni = json.load(f)\n",
    "    with open(predict_file, 'r') as f:\n",
    "        predict = {}\n",
    "        for line in f.readlines():\n",
    "            line = line.strip()\n",
    "            img_file, res = line.split('|')\n",
    "            res = res.split('\\t')\n",
    "            predict[img_file] = res\n",
    "    res = []\n",
    "    for key in uni.keys():\n",
    "        if key == \"TB1Zs4mLXXXXXb.apXXunYpLFXX_26.jpg\":\n",
    "            print(\"haha\", uni[\"TB1Zs4mLXXXXXb.apXXunYpLFXX_26.jpg\"])\n",
    "        to_int = []\n",
    "        tmp = predict[key]\n",
    "        for i in range(len(tmp)):\n",
    "            to_int.append(int(tmp[i]))\n",
    "        if uni[key] != to_int and len(uni[key]) == 2:\n",
    "            res.append(key)\n",
    "    return res\n",
    " \n",
    "res = checkerror('./prediction_result/uni_train_set.json', './prediction_result/train_result.txt')\n",
    "res.extend(checkerror('./prediction_result/uni_test_set.json', './prediction_result/test_result.txt'))\n",
    "res.extend(checkerror('./prediction_result/uni_vali_set.json', './prediction_result/vali_result.txt'))"
   ]
  },
  {
   "cell_type": "code",
   "execution_count": 18,
   "metadata": {},
   "outputs": [],
   "source": [
    "import os\n",
    "import matplotlib.pyplot as plt\n",
    "import matplotlib.image as mpimg # mpimg 用于读取图片\n",
    "import numpy as np\n",
    "%matplotlib inline\n",
    "cnt = 1\n",
    "with open('show.html', 'w') as f:\n",
    "    f.write('<html>\\n<body>\\n')\n",
    "    for item in res:\n",
    "        path = os.path.join('./single_word_image/', item)\n",
    "        f.write(\"<div><img src=\\\"%s\\\"></div>\\n\" % path)\n",
    "    f.write('/body>\\n</html>\\n')"
   ]
  },
  {
   "cell_type": "code",
   "execution_count": 19,
   "metadata": {},
   "outputs": [
    {
     "ename": "NameError",
     "evalue": "name 'uni' is not defined",
     "output_type": "error",
     "traceback": [
      "\u001b[0;31m---------------------------------------------------------------------------\u001b[0m",
      "\u001b[0;31mNameError\u001b[0m                                 Traceback (most recent call last)",
      "\u001b[0;32m<ipython-input-19-1a9bab16adc3>\u001b[0m in \u001b[0;36m<module>\u001b[0;34m()\u001b[0m\n\u001b[0;32m----> 1\u001b[0;31m \u001b[0muni\u001b[0m\u001b[0;34m[\u001b[0m\u001b[0;34m\"TB1Zs4mLXXXXXb.apXXunYpLFXX_26.jpg\"\u001b[0m\u001b[0;34m]\u001b[0m\u001b[0;34m\u001b[0m\u001b[0m\n\u001b[0m",
      "\u001b[0;31mNameError\u001b[0m: name 'uni' is not defined"
     ]
    }
   ],
   "source": [
    "uni[\"TB1Zs4mLXXXXXb.apXXunYpLFXX_26.jpg\"]"
   ]
  }
 ],
 "metadata": {
  "kernelspec": {
   "display_name": "Python 3",
   "language": "python",
   "name": "python3"
  },
  "language_info": {
   "codemirror_mode": {
    "name": "ipython",
    "version": 3
   },
   "file_extension": ".py",
   "mimetype": "text/x-python",
   "name": "python",
   "nbconvert_exporter": "python",
   "pygments_lexer": "ipython3",
   "version": "3.6.3"
  }
 },
 "nbformat": 4,
 "nbformat_minor": 2
}
